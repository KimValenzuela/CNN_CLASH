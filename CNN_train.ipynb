{
  "cells": [
    {
      "cell_type": "markdown",
      "metadata": {
        "id": "view-in-github",
        "colab_type": "text"
      },
      "source": [
        "<a href=\"https://colab.research.google.com/github/KimValenzuela/CNN_CLASH/blob/master/CNN_train.ipynb\" target=\"_parent\"><img src=\"https://colab.research.google.com/assets/colab-badge.svg\" alt=\"Open In Colab\"/></a>"
      ]
    },
    {
      "cell_type": "code",
      "execution_count": null,
      "metadata": {
        "id": "wW78Q03fjHzo"
      },
      "outputs": [],
      "source": [
        "!pip install poetry"
      ]
    },
    {
      "cell_type": "code",
      "execution_count": null,
      "metadata": {
        "colab": {
          "base_uri": "https://localhost:8080/"
        },
        "id": "9dKVIx9kjFaS",
        "outputId": "75167cb2-3943-4f29-8a8e-bebac0f6c956"
      },
      "outputs": [
        {
          "output_type": "stream",
          "name": "stdout",
          "text": [
            "Cloning into 'CNN_CLASH'...\n",
            "remote: Enumerating objects: 7454, done.\u001b[K\n",
            "remote: Counting objects: 100% (62/62), done.\u001b[K\n",
            "remote: Compressing objects: 100% (43/43), done.\u001b[K\n",
            "remote: Total 7454 (delta 31), reused 46 (delta 19), pack-reused 7392\u001b[K\n",
            "Receiving objects: 100% (7454/7454), 80.23 MiB | 17.26 MiB/s, done.\n",
            "Resolving deltas: 100% (51/51), done.\n"
          ]
        }
      ],
      "source": [
        "!rm -rf /content/CNN_CLASH/ && git clone -b master https://github.com/KimValenzuela/CNN_CLASH.git"
      ]
    },
    {
      "cell_type": "code",
      "execution_count": null,
      "metadata": {
        "colab": {
          "base_uri": "https://localhost:8080/"
        },
        "id": "_i2s2lg7jIxW",
        "outputId": "4cbd81cd-3d75-41c9-ebb1-83611bec22fd"
      },
      "outputs": [
        {
          "output_type": "stream",
          "name": "stdout",
          "text": [
            "\u001b[34mInstalling dependencies from lock file\u001b[39m\n",
            "\n",
            "\u001b[39;1mPackage operations\u001b[39;22m: \u001b[34m57\u001b[39m installs, \u001b[34m0\u001b[39m updates, \u001b[34m0\u001b[39m removals\n",
            "\n"
          ]
        }
      ],
      "source": [
        "!cd /content/CNN_CLASH/ && poetry install"
      ]
    },
    {
      "cell_type": "code",
      "execution_count": null,
      "metadata": {
        "colab": {
          "base_uri": "https://localhost:8080/"
        },
        "id": "DL5_RldPjML-",
        "outputId": "bace485c-53c5-4140-b154-ca792e7930a9"
      },
      "outputs": [
        {
          "output_type": "stream",
          "name": "stdout",
          "text": [
            "Drive already mounted at /content/drive; to attempt to forcibly remount, call drive.mount(\"/content/drive\", force_remount=True).\n"
          ]
        }
      ],
      "source": [
        "from google.colab import drive\n",
        "drive.mount('/content/drive')"
      ]
    },
    {
      "cell_type": "code",
      "execution_count": null,
      "metadata": {
        "id": "Wq1nwVVqjPiW"
      },
      "outputs": [],
      "source": [
        "!ln -s \"/content/drive/MyDrive/Candels/stamps/\" \"/content/CNN_CLASH/CANDELS/\""
      ]
    },
    {
      "cell_type": "code",
      "source": [
        "#!python3 /content/CNN_CLASH/filter_data.py"
      ],
      "metadata": {
        "colab": {
          "base_uri": "https://localhost:8080/"
        },
        "id": "83515bYimtaX",
        "outputId": "8dfdb6c0-641f-438c-cd3e-1715ce561f0c"
      },
      "execution_count": null,
      "outputs": [
        {
          "output_type": "stream",
          "name": "stdout",
          "text": [
            "(3167, 5)\n"
          ]
        }
      ]
    },
    {
      "cell_type": "code",
      "execution_count": null,
      "metadata": {
        "colab": {
          "base_uri": "https://localhost:8080/"
        },
        "id": "RGERwY15jRmu",
        "outputId": "379dae52-bfdc-49f0-85e7-883986371c9b"
      },
      "outputs": [
        {
          "output_type": "stream",
          "name": "stdout",
          "text": [
            "2022-12-23 00:07:37.581836: W tensorflow/core/common_runtime/gpu/gpu_bfc_allocator.cc:42] Overriding orig_value setting because the TF_FORCE_GPU_ALLOW_GROWTH environment variable is set. Original config value was 0.\n",
            "Epoch 1/150\n",
            "331/331 [==============================] - 837s 3s/step - loss: 0.0572 - val_loss: 0.0562\n",
            "Epoch 2/150\n",
            "331/331 [==============================] - 138s 418ms/step - loss: 0.0539 - val_loss: 0.0525\n",
            "Epoch 3/150\n",
            "331/331 [==============================] - 138s 417ms/step - loss: 0.0508 - val_loss: 0.0553\n",
            "Epoch 4/150\n",
            "331/331 [==============================] - 138s 416ms/step - loss: 0.0481 - val_loss: 0.0537\n",
            "Epoch 5/150\n",
            "331/331 [==============================] - 136s 410ms/step - loss: 0.0476 - val_loss: 0.0541\n",
            "Epoch 6/150\n",
            "331/331 [==============================] - 136s 411ms/step - loss: 0.0452 - val_loss: 0.0603\n",
            "Epoch 7/150\n",
            "331/331 [==============================] - 135s 408ms/step - loss: 0.0445 - val_loss: 0.0648\n",
            "Epoch 8/150\n",
            "331/331 [==============================] - 135s 409ms/step - loss: 0.0417 - val_loss: 0.0646\n",
            "Epoch 9/150\n",
            "331/331 [==============================] - 135s 408ms/step - loss: 0.0424 - val_loss: 0.0649\n",
            "Epoch 10/150\n",
            "331/331 [==============================] - 1127s 3s/step - loss: 0.0418 - val_loss: 0.0612\n",
            "Epoch 11/150\n",
            "331/331 [==============================] - 135s 410ms/step - loss: 0.0402 - val_loss: 0.2856\n",
            "Epoch 12/150\n",
            "331/331 [==============================] - 136s 411ms/step - loss: 0.0411 - val_loss: 0.2192\n",
            "Epoch 13/150\n",
            "331/331 [==============================] - 135s 409ms/step - loss: 0.0407 - val_loss: 0.2855\n",
            "Epoch 14/150\n",
            "331/331 [==============================] - 136s 410ms/step - loss: 0.0391 - val_loss: 0.1219\n",
            "Epoch 15/150\n",
            "331/331 [==============================] - 134s 406ms/step - loss: 0.0386 - val_loss: 0.0645\n",
            "Epoch 16/150\n",
            "331/331 [==============================] - 134s 406ms/step - loss: 0.0377 - val_loss: 0.1801\n",
            "Epoch 17/150\n",
            "331/331 [==============================] - 135s 407ms/step - loss: 0.0382 - val_loss: 0.0623\n",
            "Epoch 18/150\n",
            "331/331 [==============================] - 134s 405ms/step - loss: 0.0368 - val_loss: 0.2598\n",
            "Epoch 19/150\n",
            "331/331 [==============================] - 134s 407ms/step - loss: 0.0372 - val_loss: 0.0626\n",
            "Epoch 20/150\n",
            "331/331 [==============================] - 134s 404ms/step - loss: 0.0368 - val_loss: 0.0706\n",
            "Epoch 21/150\n",
            "331/331 [==============================] - 134s 405ms/step - loss: 0.0365 - val_loss: 0.0641\n",
            "Epoch 22/150\n",
            "331/331 [==============================] - 134s 406ms/step - loss: 0.0373 - val_loss: 0.0698\n",
            "Epoch 23/150\n",
            "331/331 [==============================] - 134s 405ms/step - loss: 0.0388 - val_loss: 0.0754\n",
            "Epoch 24/150\n",
            "331/331 [==============================] - 134s 406ms/step - loss: 0.0367 - val_loss: 0.0681\n",
            "Epoch 25/150\n",
            "331/331 [==============================] - 135s 407ms/step - loss: 0.0367 - val_loss: 0.2857\n",
            "Epoch 26/150\n",
            "331/331 [==============================] - 134s 406ms/step - loss: 0.0356 - val_loss: 0.0715\n",
            "Epoch 27/150\n",
            "331/331 [==============================] - 747s 2s/step - loss: 0.0447 - val_loss: 0.2857\n",
            "Epoch 28/150\n",
            "331/331 [==============================] - 134s 407ms/step - loss: 0.0452 - val_loss: 0.0888\n",
            "Epoch 29/150\n",
            "331/331 [==============================] - 135s 407ms/step - loss: 0.0421 - val_loss: 0.0639\n",
            "Epoch 30/150\n",
            "331/331 [==============================] - 170s 515ms/step - loss: 0.0402 - val_loss: 0.0626\n",
            "Epoch 31/150\n",
            "331/331 [==============================] - 135s 409ms/step - loss: 0.0464 - val_loss: 0.0644\n",
            "Epoch 32/150\n",
            "331/331 [==============================] - 134s 406ms/step - loss: 0.0415 - val_loss: 0.2526\n",
            "Epoch 33/150\n",
            "331/331 [==============================] - 133s 403ms/step - loss: 0.0410 - val_loss: 0.0576\n",
            "Epoch 34/150\n",
            "331/331 [==============================] - 133s 403ms/step - loss: 0.0381 - val_loss: 0.0793\n",
            "Epoch 35/150\n",
            "331/331 [==============================] - 134s 406ms/step - loss: 0.0375 - val_loss: 0.2857\n",
            "Epoch 36/150\n",
            "331/331 [==============================] - 133s 402ms/step - loss: 0.0396 - val_loss: 0.0668\n",
            "Epoch 37/150\n",
            "331/331 [==============================] - 133s 403ms/step - loss: 0.0367 - val_loss: 0.2760\n",
            "Epoch 38/150\n",
            "331/331 [==============================] - 134s 404ms/step - loss: 0.0369 - val_loss: 0.1910\n",
            "Epoch 39/150\n",
            "331/331 [==============================] - 133s 402ms/step - loss: 0.0351 - val_loss: 0.0830\n",
            "Epoch 40/150\n",
            "331/331 [==============================] - 134s 406ms/step - loss: 0.0375 - val_loss: 0.0636\n",
            "Epoch 41/150\n",
            "331/331 [==============================] - 133s 402ms/step - loss: 0.0373 - val_loss: 0.0726\n",
            "Epoch 42/150\n",
            "331/331 [==============================] - 134s 405ms/step - loss: 0.0354 - val_loss: 0.0742\n",
            "Epoch 43/150\n",
            "331/331 [==============================] - 133s 403ms/step - loss: 0.0333 - val_loss: 0.2855\n",
            "Epoch 44/150\n",
            "331/331 [==============================] - 133s 404ms/step - loss: 0.0342 - val_loss: 0.2698\n",
            "Epoch 45/150\n",
            "331/331 [==============================] - 133s 403ms/step - loss: 0.0333 - val_loss: 0.0687\n",
            "Epoch 46/150\n",
            "331/331 [==============================] - 133s 402ms/step - loss: 0.0324 - val_loss: 0.2857\n",
            "Epoch 47/150\n",
            "331/331 [==============================] - 133s 404ms/step - loss: 0.0318 - val_loss: 0.0670\n",
            "Epoch 48/150\n",
            "331/331 [==============================] - 132s 400ms/step - loss: 0.0309 - val_loss: 0.2841\n",
            "Epoch 49/150\n",
            "331/331 [==============================] - 177s 404ms/step - loss: 0.0314 - val_loss: 0.2857\n",
            "Epoch 50/150\n",
            "331/331 [==============================] - 133s 402ms/step - loss: 0.0324 - val_loss: 0.0648\n",
            "Epoch 51/150\n",
            "331/331 [==============================] - 134s 405ms/step - loss: 0.0307 - val_loss: 0.0675\n",
            "Epoch 52/150\n",
            "331/331 [==============================] - 133s 402ms/step - loss: 0.0302 - val_loss: 0.0672\n",
            "36/36 [==============================] - 1s 17ms/step - loss: 0.0717\n",
            "Score:  0.07165815681219101\n"
          ]
        }
      ],
      "source": [
        "!cd /content/CNN_CLASH && python3 train.py CANDELS"
      ]
    }
  ],
  "metadata": {
    "accelerator": "GPU",
    "colab": {
      "machine_shape": "hm",
      "provenance": [],
      "authorship_tag": "ABX9TyNwltWL9szg5NiZglA416TV",
      "include_colab_link": true
    },
    "gpuClass": "premium",
    "kernelspec": {
      "display_name": "Python 3",
      "name": "python3"
    },
    "language_info": {
      "name": "python"
    }
  },
  "nbformat": 4,
  "nbformat_minor": 0
}